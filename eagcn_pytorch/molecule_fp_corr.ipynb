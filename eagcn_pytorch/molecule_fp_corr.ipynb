{
 "cells": [
  {
   "cell_type": "code",
   "execution_count": 59,
   "metadata": {
    "collapsed": true
   },
   "outputs": [],
   "source": [
    "from __future__ import division\n",
    "from __future__ import print_function\n",
    "\n",
    "import time\n",
    "import argparse\n",
    "import numpy as np\n",
    "import math\n",
    "\n",
    "import torch\n",
    "import torch.nn.functional as F\n",
    "import torch.optim as optim\n",
    "from torch.autograd import Variable\n",
    "from utils import *\n",
    "from models import *\n",
    "from torch.utils.data import Dataset\n",
    "\n",
    "from sklearn import metrics\n",
    "from sklearn.utils import shuffle, resample\n",
    "from sklearn.model_selection import train_test_split, KFold\n",
    "import os\n",
    "\n",
    "import matplotlib.pyplot as plt\n",
    "from time import gmtime, strftime\n",
    "\n",
    "random_state= 13\n",
    "nbits = 64\n",
    "batch_size = 100\n",
    "num_epochs = 80\n",
    "weight_decay = 0.0001  # L-2 Norm\n",
    "learning_rate = 0.0005"
   ]
  },
  {
   "cell_type": "code",
   "execution_count": 60,
   "metadata": {},
   "outputs": [],
   "source": [
    "class ECFPClass(nn.Module):\n",
    "    def __init__(self, fp_len, nclass):\n",
    "        super(ECFPClass, self).__init__()\n",
    "\n",
    "        self.classifier = nn.Linear(fp_len, nclass)\n",
    "\n",
    "    def forward(self, x):\n",
    "        return self.classifier(x)"
   ]
  },
  {
   "cell_type": "code",
   "execution_count": 61,
   "metadata": {},
   "outputs": [],
   "source": [
    "def split_data(data, labels):\n",
    "    X, x_test, y, y_test = train_test_split(data, labels, test_size=0.1, random_state=random_state, stratify=labels)\n",
    "    \n",
    "    tensor_x_test = torch.from_numpy(x_test).float()\n",
    "    tensor_y_test = torch.from_numpy(y_test).long()\n",
    "    test_dataset = torch.utils.data.TensorDataset(tensor_x_test, tensor_y_test)\n",
    "    test_loader = torch.utils.data.DataLoader(dataset=test_dataset, batch_size=batch_size)\n",
    "    \n",
    "    x_train, x_val, y_train, y_val = train_test_split(X, y, test_size=0.1, random_state=random_state, stratify=y)\n",
    "    \n",
    "    tensor_x_val = torch.from_numpy(x_val).float()\n",
    "    tensor_y_val = torch.from_numpy(y_val).long()\n",
    "    val_dataset = torch.utils.data.TensorDataset(tensor_x_val, tensor_y_val)\n",
    "    val_loader = torch.utils.data.DataLoader(dataset=val_dataset, batch_size=batch_size)\n",
    "    \n",
    "    tensor_x_train = torch.from_numpy(x_train).float()\n",
    "    tensor_y_train = torch.from_numpy(y_train).long()\n",
    "    train_dataset = torch.utils.data.TensorDataset(tensor_x_train, tensor_y_train)\n",
    "    train_loader = torch.utils.data.DataLoader(dataset=train_dataset, batch_size=batch_size)\n",
    "    \n",
    "    return (train_loader, val_loader, test_loader)"
   ]
  },
  {
   "cell_type": "code",
   "execution_count": 71,
   "metadata": {},
   "outputs": [],
   "source": [
    "def count_parameters(model):\n",
    "    return sum(p.numel() for p in model.parameters() if p.requires_grad)"
   ]
  },
  {
   "cell_type": "code",
   "execution_count": 62,
   "metadata": {},
   "outputs": [
    {
     "name": "stdout",
     "output_type": "stream",
     "text": [
      "Loading small_batch_test dataset...\n"
     ]
    },
    {
     "name": "stdout",
     "output_type": "stream",
     "text": [
      "Done.\n"
     ]
    }
   ],
   "source": [
    "x_all, y_all, target, sizes, mol_to_graph_transform, parameter_holder, edge_vocab, node_vocab = \\\n",
    "    load_data('small_batch_test')"
   ]
  },
  {
   "cell_type": "code",
   "execution_count": 63,
   "metadata": {},
   "outputs": [],
   "source": [
    "from rdkit import DataStructs\n",
    "fps = [AllChem.GetMorganFingerprintAsBitVect(MolFromInchi(mol_dat[-1]), 2, nBits=nbits) for mol_dat in x_all]\n",
    "len_train = len(fps)"
   ]
  },
  {
   "cell_type": "code",
   "execution_count": 64,
   "metadata": {},
   "outputs": [],
   "source": [
    "# labels = np.argmax(y_all, axis=1)\n",
    "# label_pos = -1\n",
    "labels = y_all"
   ]
  },
  {
   "cell_type": "code",
   "execution_count": 65,
   "metadata": {},
   "outputs": [],
   "source": [
    "np_fps = []\n",
    "for fp in fps:\n",
    "  arr = np.zeros((1,))\n",
    "  DataStructs.ConvertToNumpyArray(fp, arr)\n",
    "  np_fps.append(arr)\n",
    "\n",
    "np_fps = np.concatenate(np_fps, axis=0)\n",
    "np_fps = np_fps.reshape(-1, nbits)"
   ]
  },
  {
   "cell_type": "code",
   "execution_count": 66,
   "metadata": {},
   "outputs": [],
   "source": [
    "np_fps, labels = shuffle(np_fps, labels, random_state=random_state)\n",
    "# comb_data = np.hstack([np_fps, labels.reshape(-1, 1)])"
   ]
  },
  {
   "cell_type": "code",
   "execution_count": 67,
   "metadata": {},
   "outputs": [],
   "source": [
    "train_loader, validation_loader, test_loader = split_data(np_fps, labels)"
   ]
  },
  {
   "cell_type": "code",
   "execution_count": 68,
   "metadata": {},
   "outputs": [],
   "source": [
    "model = ECFPClass(nbits, y_all.shape[1])\n",
    "optimizer = torch.optim.Adam(model.parameters(), lr=learning_rate, weight_decay=weight_decay)\n",
    "loss_func = nn.CrossEntropyLoss()"
   ]
  },
  {
   "cell_type": "code",
   "execution_count": 72,
   "metadata": {},
   "outputs": [
    {
     "data": {
      "text/plain": [
       "37700"
      ]
     },
     "execution_count": 72,
     "metadata": {},
     "output_type": "execute_result"
    }
   ],
   "source": [
    "count_parameters(model)"
   ]
  },
  {
   "cell_type": "code",
   "execution_count": 69,
   "metadata": {},
   "outputs": [],
   "source": [
    "def test_model(loader, model):\n",
    "    model.eval()\n",
    "    correct = [0]*4\n",
    "    total = Variable(FloatTensor([0]))\n",
    "    for i, (fps, labels) in enumerate(loader):\n",
    "        outputs = model(Variable(fps).float())\n",
    "        smprobs = F.log_softmax(outputs, dim=1)\n",
    "        labels_pos = torch.sum(smprobs > smprobs[1 == labels].unsqueeze(1).expand(-1, outputs.shape[1]), dim=1)\n",
    "        top_ks = [1, 5, 10, 30]\n",
    "        top_ks = np.array(top_ks) - 1\n",
    "        for i, topk in enumerate(top_ks):\n",
    "            if (topk+1) < smprobs.shape[1]:\n",
    "                correct[i] = correct[i] + sum(labels_pos <= topk).data[0]\n",
    "            else:\n",
    "                break\n",
    "                \n",
    "        total += labels.shape[0]\n",
    "        return np.true_divide(correct,total.data[0]).tolist()"
   ]
  },
  {
   "cell_type": "code",
   "execution_count": 70,
   "metadata": {},
   "outputs": [
    {
     "name": "stdout",
     "output_type": "stream",
     "text": [
      "Calculating train pos...\nCalculating validation pos...\nEpoch: [1/80], Step: [234/289.0], Loss: 1438.33179712,\nTrain: 1: 0.03, 5: 0.13, 10: 0.2, 30: 0.37\nValidation: 1: 0.04, 5: 0.11, 10: 0.23, 30: 0.4\n"
     ]
    },
    {
     "name": "stdout",
     "output_type": "stream",
     "text": [
      "Calculating train pos...\nCalculating validation pos...\nEpoch: [2/80], Step: [234/289.0], Loss: 1350.2626853,\nTrain: 1: 0.1, 5: 0.3, 10: 0.34, 30: 0.54\nValidation: 1: 0.14, 5: 0.29, 10: 0.34, 30: 0.52\n"
     ]
    },
    {
     "name": "stdout",
     "output_type": "stream",
     "text": [
      "Calculating train pos...\nCalculating validation pos...\nEpoch: [3/80], Step: [234/289.0], Loss: 1285.42070198,\nTrain: 1: 0.22, 5: 0.4, 10: 0.5, 30: 0.66\nValidation: 1: 0.22, 5: 0.32, 10: 0.4, 30: 0.6\n"
     ]
    },
    {
     "name": "stdout",
     "output_type": "stream",
     "text": [
      "Calculating train pos...\nCalculating validation pos...\nEpoch: [4/80], Step: [234/289.0], Loss: 1224.94875097,\nTrain: 1: 0.28, 5: 0.51, 10: 0.61, 30: 0.71\nValidation: 1: 0.24, 5: 0.36, 10: 0.49, 30: 0.67\n"
     ]
    },
    {
     "name": "stdout",
     "output_type": "stream",
     "text": [
      "Calculating train pos...\nCalculating validation pos...\nEpoch: [5/80], Step: [234/289.0], Loss: 1168.1303587,\nTrain: 1: 0.31, 5: 0.59, 10: 0.64, 30: 0.75\nValidation: 1: 0.27, 5: 0.47, 10: 0.55, 30: 0.67\n"
     ]
    },
    {
     "name": "stdout",
     "output_type": "stream",
     "text": [
      "Calculating train pos...\nCalculating validation pos...\nEpoch: [6/80], Step: [234/289.0], Loss: 1114.96432829,\nTrain: 1: 0.38, 5: 0.64, 10: 0.7, 30: 0.77\nValidation: 1: 0.31, 5: 0.51, 10: 0.58, 30: 0.67\n"
     ]
    },
    {
     "name": "stdout",
     "output_type": "stream",
     "text": [
      "Calculating train pos...\nCalculating validation pos...\nEpoch: [7/80], Step: [234/289.0], Loss: 1065.50010729,\nTrain: 1: 0.44, 5: 0.67, 10: 0.71, 30: 0.79\nValidation: 1: 0.36, 5: 0.54, 10: 0.6, 30: 0.7\n"
     ]
    },
    {
     "name": "stdout",
     "output_type": "stream",
     "text": [
      "Calculating train pos...\nCalculating validation pos...\nEpoch: [8/80], Step: [234/289.0], Loss: 1019.75402451,\nTrain: 1: 0.45, 5: 0.67, 10: 0.71, 30: 0.81\nValidation: 1: 0.37, 5: 0.56, 10: 0.62, 30: 0.71\n"
     ]
    },
    {
     "name": "stdout",
     "output_type": "stream",
     "text": [
      "Calculating train pos...\nCalculating validation pos...\nEpoch: [9/80], Step: [234/289.0], Loss: 977.674947023,\nTrain: 1: 0.47, 5: 0.68, 10: 0.74, 30: 0.81\nValidation: 1: 0.4, 5: 0.57, 10: 0.62, 30: 0.73\n"
     ]
    },
    {
     "name": "stdout",
     "output_type": "stream",
     "text": [
      "Calculating train pos...\nCalculating validation pos...\nEpoch: [10/80], Step: [234/289.0], Loss: 939.138400078,\nTrain: 1: 0.48, 5: 0.7, 10: 0.73, 30: 0.81\nValidation: 1: 0.44, 5: 0.58, 10: 0.65, 30: 0.75\n"
     ]
    },
    {
     "name": "stdout",
     "output_type": "stream",
     "text": [
      "Calculating train pos...\nCalculating validation pos...\nEpoch: [11/80], Step: [234/289.0], Loss: 903.959759235,\nTrain: 1: 0.54, 5: 0.7, 10: 0.74, 30: 0.82\nValidation: 1: 0.46, 5: 0.59, 10: 0.64, 30: 0.73\n"
     ]
    },
    {
     "name": "stdout",
     "output_type": "stream",
     "text": [
      "Calculating train pos...\nCalculating validation pos...\nEpoch: [12/80], Step: [234/289.0], Loss: 871.914542913,\nTrain: 1: 0.56, 5: 0.71, 10: 0.73, 30: 0.82\nValidation: 1: 0.49, 5: 0.59, 10: 0.63, 30: 0.72\n"
     ]
    },
    {
     "name": "stdout",
     "output_type": "stream",
     "text": [
      "Calculating train pos...\nCalculating validation pos...\nEpoch: [13/80], Step: [234/289.0], Loss: 842.758004904,\nTrain: 1: 0.6, 5: 0.71, 10: 0.73, 30: 0.82\nValidation: 1: 0.51, 5: 0.59, 10: 0.64, 30: 0.72\n"
     ]
    },
    {
     "name": "stdout",
     "output_type": "stream",
     "text": [
      "Calculating train pos...\nCalculating validation pos...\nEpoch: [14/80], Step: [234/289.0], Loss: 816.240378141,\nTrain: 1: 0.62, 5: 0.71, 10: 0.73, 30: 0.8\nValidation: 1: 0.52, 5: 0.59, 10: 0.65, 30: 0.71\n"
     ]
    },
    {
     "name": "stdout",
     "output_type": "stream",
     "text": [
      "Calculating train pos...\nCalculating validation pos...\nEpoch: [15/80], Step: [234/289.0], Loss: 792.117306709,\nTrain: 1: 0.62, 5: 0.71, 10: 0.73, 30: 0.81\nValidation: 1: 0.52, 5: 0.6, 10: 0.65, 30: 0.71\n"
     ]
    },
    {
     "name": "stdout",
     "output_type": "stream",
     "text": [
      "Calculating train pos...\nCalculating validation pos...\nEpoch: [16/80], Step: [234/289.0], Loss: 770.156543016,\nTrain: 1: 0.63, 5: 0.73, 10: 0.74, 30: 0.81\nValidation: 1: 0.53, 5: 0.6, 10: 0.65, 30: 0.72\n"
     ]
    },
    {
     "name": "stdout",
     "output_type": "stream",
     "text": [
      "Calculating train pos...\nCalculating validation pos...\nEpoch: [17/80], Step: [234/289.0], Loss: 750.141520739,\nTrain: 1: 0.63, 5: 0.73, 10: 0.74, 30: 0.8\nValidation: 1: 0.52, 5: 0.6, 10: 0.64, 30: 0.72\n"
     ]
    },
    {
     "name": "stdout",
     "output_type": "stream",
     "text": [
      "Calculating train pos...\nCalculating validation pos...\nEpoch: [18/80], Step: [234/289.0], Loss: 731.87311244,\nTrain: 1: 0.63, 5: 0.73, 10: 0.74, 30: 0.82\nValidation: 1: 0.52, 5: 0.6, 10: 0.64, 30: 0.72\n"
     ]
    },
    {
     "name": "stdout",
     "output_type": "stream",
     "text": [
      "Calculating train pos...\nCalculating validation pos...\nEpoch: [19/80], Step: [234/289.0], Loss: 715.170072079,\nTrain: 1: 0.63, 5: 0.73, 10: 0.74, 30: 0.82\nValidation: 1: 0.52, 5: 0.61, 10: 0.64, 30: 0.72\n"
     ]
    },
    {
     "name": "stdout",
     "output_type": "stream",
     "text": [
      "Calculating train pos...\nCalculating validation pos...\nEpoch: [20/80], Step: [234/289.0], Loss: 699.868592739,\nTrain: 1: 0.63, 5: 0.74, 10: 0.74, 30: 0.83\nValidation: 1: 0.52, 5: 0.61, 10: 0.64, 30: 0.73\n"
     ]
    },
    {
     "name": "stdout",
     "output_type": "stream",
     "text": [
      "Calculating train pos...\nCalculating validation pos...\nEpoch: [21/80], Step: [234/289.0], Loss: 685.821447372,\nTrain: 1: 0.62, 5: 0.75, 10: 0.77, 30: 0.83\nValidation: 1: 0.52, 5: 0.6, 10: 0.64, 30: 0.73\n"
     ]
    },
    {
     "name": "stdout",
     "output_type": "stream",
     "text": [
      "Calculating train pos...\nCalculating validation pos...\nEpoch: [22/80], Step: [234/289.0], Loss: 672.896850824,\nTrain: 1: 0.64, 5: 0.74, 10: 0.76, 30: 0.82\nValidation: 1: 0.52, 5: 0.6, 10: 0.64, 30: 0.73\n"
     ]
    },
    {
     "name": "stdout",
     "output_type": "stream",
     "text": [
      "Calculating train pos...\nCalculating validation pos...\nEpoch: [23/80], Step: [234/289.0], Loss: 660.977344751,\nTrain: 1: 0.64, 5: 0.74, 10: 0.76, 30: 0.82\nValidation: 1: 0.52, 5: 0.6, 10: 0.64, 30: 0.73\n"
     ]
    },
    {
     "name": "stdout",
     "output_type": "stream",
     "text": [
      "Calculating train pos...\nCalculating validation pos...\nEpoch: [24/80], Step: [234/289.0], Loss: 649.958551645,\nTrain: 1: 0.65, 5: 0.74, 10: 0.77, 30: 0.82\nValidation: 1: 0.52, 5: 0.61, 10: 0.64, 30: 0.73\n"
     ]
    },
    {
     "name": "stdout",
     "output_type": "stream",
     "text": [
      "Calculating train pos...\nCalculating validation pos...\nEpoch: [25/80], Step: [234/289.0], Loss: 639.748086691,\nTrain: 1: 0.66, 5: 0.75, 10: 0.77, 30: 0.82\nValidation: 1: 0.53, 5: 0.62, 10: 0.64, 30: 0.73\n"
     ]
    },
    {
     "name": "stdout",
     "output_type": "stream",
     "text": [
      "Calculating train pos...\nCalculating validation pos...\nEpoch: [26/80], Step: [234/289.0], Loss: 630.264315128,\nTrain: 1: 0.67, 5: 0.75, 10: 0.77, 30: 0.82\nValidation: 1: 0.53, 5: 0.6, 10: 0.64, 30: 0.73\n"
     ]
    },
    {
     "name": "stdout",
     "output_type": "stream",
     "text": [
      "Calculating train pos...\nCalculating validation pos...\nEpoch: [27/80], Step: [234/289.0], Loss: 621.435265064,\nTrain: 1: 0.67, 5: 0.76, 10: 0.77, 30: 0.82\nValidation: 1: 0.53, 5: 0.6, 10: 0.65, 30: 0.73\n"
     ]
    },
    {
     "name": "stdout",
     "output_type": "stream",
     "text": [
      "Calculating train pos...\nCalculating validation pos...\nEpoch: [28/80], Step: [234/289.0], Loss: 613.197608709,\nTrain: 1: 0.67, 5: 0.76, 10: 0.77, 30: 0.82\nValidation: 1: 0.53, 5: 0.61, 10: 0.65, 30: 0.74\n"
     ]
    },
    {
     "name": "stdout",
     "output_type": "stream",
     "text": [
      "Calculating train pos...\nCalculating validation pos...\nEpoch: [29/80], Step: [234/289.0], Loss: 605.495557308,\nTrain: 1: 0.67, 5: 0.76, 10: 0.77, 30: 0.82\nValidation: 1: 0.53, 5: 0.61, 10: 0.65, 30: 0.75\n"
     ]
    },
    {
     "name": "stdout",
     "output_type": "stream",
     "text": [
      "Calculating train pos...\nCalculating validation pos...\nEpoch: [30/80], Step: [234/289.0], Loss: 598.279984474,\nTrain: 1: 0.67, 5: 0.76, 10: 0.77, 30: 0.83\nValidation: 1: 0.54, 5: 0.61, 10: 0.65, 30: 0.76\n"
     ]
    },
    {
     "name": "stdout",
     "output_type": "stream",
     "text": [
      "Calculating train pos...\nCalculating validation pos...\nEpoch: [31/80], Step: [234/289.0], Loss: 591.507554531,\nTrain: 1: 0.67, 5: 0.76, 10: 0.77, 30: 0.83\nValidation: 1: 0.54, 5: 0.61, 10: 0.65, 30: 0.76\n"
     ]
    },
    {
     "name": "stdout",
     "output_type": "stream",
     "text": [
      "Calculating train pos...\nCalculating validation pos...\nEpoch: [32/80], Step: [234/289.0], Loss: 585.139936686,\nTrain: 1: 0.68, 5: 0.76, 10: 0.78, 30: 0.83\nValidation: 1: 0.54, 5: 0.61, 10: 0.65, 30: 0.76\n"
     ]
    },
    {
     "name": "stdout",
     "output_type": "stream",
     "text": [
      "Calculating train pos...\nCalculating validation pos...\nEpoch: [33/80], Step: [234/289.0], Loss: 579.143159628,\nTrain: 1: 0.69, 5: 0.76, 10: 0.78, 30: 0.84\nValidation: 1: 0.54, 5: 0.61, 10: 0.65, 30: 0.77\n"
     ]
    },
    {
     "name": "stdout",
     "output_type": "stream",
     "text": [
      "Calculating train pos...\nCalculating validation pos...\nEpoch: [34/80], Step: [234/289.0], Loss: 573.486935258,\nTrain: 1: 0.69, 5: 0.76, 10: 0.78, 30: 0.84\nValidation: 1: 0.54, 5: 0.61, 10: 0.66, 30: 0.77\n"
     ]
    },
    {
     "name": "stdout",
     "output_type": "stream",
     "text": [
      "Calculating train pos...\nCalculating validation pos...\nEpoch: [35/80], Step: [234/289.0], Loss: 568.14429915,\nTrain: 1: 0.69, 5: 0.76, 10: 0.78, 30: 0.84\nValidation: 1: 0.54, 5: 0.62, 10: 0.67, 30: 0.78\n"
     ]
    },
    {
     "name": "stdout",
     "output_type": "stream",
     "text": [
      "Calculating train pos...\nCalculating validation pos...\nEpoch: [36/80], Step: [234/289.0], Loss: 563.09098506,\nTrain: 1: 0.69, 5: 0.76, 10: 0.78, 30: 0.84\nValidation: 1: 0.54, 5: 0.62, 10: 0.67, 30: 0.78\n"
     ]
    },
    {
     "name": "stdout",
     "output_type": "stream",
     "text": [
      "Calculating train pos...\nCalculating validation pos...\nEpoch: [37/80], Step: [234/289.0], Loss: 558.305204391,\nTrain: 1: 0.69, 5: 0.76, 10: 0.78, 30: 0.84\nValidation: 1: 0.55, 5: 0.62, 10: 0.67, 30: 0.78\n"
     ]
    },
    {
     "name": "stdout",
     "output_type": "stream",
     "text": [
      "Calculating train pos...\nCalculating validation pos...\nEpoch: [38/80], Step: [234/289.0], Loss: 553.767282248,\nTrain: 1: 0.69, 5: 0.76, 10: 0.78, 30: 0.84\nValidation: 1: 0.55, 5: 0.63, 10: 0.67, 30: 0.78\n"
     ]
    },
    {
     "name": "stdout",
     "output_type": "stream",
     "text": [
      "Calculating train pos...\nCalculating validation pos...\nEpoch: [39/80], Step: [234/289.0], Loss: 549.459403634,\nTrain: 1: 0.69, 5: 0.76, 10: 0.78, 30: 0.84\nValidation: 1: 0.55, 5: 0.64, 10: 0.67, 30: 0.78\n"
     ]
    },
    {
     "name": "stdout",
     "output_type": "stream",
     "text": [
      "Calculating train pos...\nCalculating validation pos...\nEpoch: [40/80], Step: [234/289.0], Loss: 545.365328193,\nTrain: 1: 0.69, 5: 0.76, 10: 0.78, 30: 0.84\nValidation: 1: 0.55, 5: 0.64, 10: 0.67, 30: 0.78\n"
     ]
    },
    {
     "name": "stdout",
     "output_type": "stream",
     "text": [
      "Calculating train pos...\nCalculating validation pos...\nEpoch: [41/80], Step: [234/289.0], Loss: 541.470346451,\nTrain: 1: 0.69, 5: 0.76, 10: 0.78, 30: 0.84\nValidation: 1: 0.55, 5: 0.64, 10: 0.68, 30: 0.78\n"
     ]
    },
    {
     "name": "stdout",
     "output_type": "stream",
     "text": [
      "Calculating train pos...\nCalculating validation pos...\nEpoch: [42/80], Step: [234/289.0], Loss: 537.760961294,\nTrain: 1: 0.7, 5: 0.77, 10: 0.79, 30: 0.85\nValidation: 1: 0.55, 5: 0.64, 10: 0.68, 30: 0.78\n"
     ]
    },
    {
     "name": "stdout",
     "output_type": "stream",
     "text": [
      "Calculating train pos...\nCalculating validation pos...\nEpoch: [43/80], Step: [234/289.0], Loss: 534.224882007,\nTrain: 1: 0.69, 5: 0.77, 10: 0.79, 30: 0.85\nValidation: 1: 0.55, 5: 0.64, 10: 0.68, 30: 0.78\n"
     ]
    },
    {
     "name": "stdout",
     "output_type": "stream",
     "text": [
      "Calculating train pos...\nCalculating validation pos...\nEpoch: [44/80], Step: [234/289.0], Loss: 530.850816607,\nTrain: 1: 0.69, 5: 0.77, 10: 0.79, 30: 0.85\nValidation: 1: 0.55, 5: 0.64, 10: 0.69, 30: 0.78\n"
     ]
    },
    {
     "name": "stdout",
     "output_type": "stream",
     "text": [
      "Calculating train pos...\nCalculating validation pos...\nEpoch: [45/80], Step: [234/289.0], Loss: 527.628393054,\nTrain: 1: 0.69, 5: 0.77, 10: 0.79, 30: 0.85\nValidation: 1: 0.55, 5: 0.64, 10: 0.69, 30: 0.78\n"
     ]
    },
    {
     "name": "stdout",
     "output_type": "stream",
     "text": [
      "Calculating train pos...\nCalculating validation pos...\nEpoch: [46/80], Step: [234/289.0], Loss: 524.548101664,\nTrain: 1: 0.69, 5: 0.77, 10: 0.8, 30: 0.85\nValidation: 1: 0.55, 5: 0.64, 10: 0.69, 30: 0.78\n"
     ]
    },
    {
     "name": "stdout",
     "output_type": "stream",
     "text": [
      "Calculating train pos...\nCalculating validation pos...\nEpoch: [47/80], Step: [234/289.0], Loss: 521.601178646,\nTrain: 1: 0.69, 5: 0.77, 10: 0.8, 30: 0.85\nValidation: 1: 0.55, 5: 0.65, 10: 0.69, 30: 0.78\n"
     ]
    },
    {
     "name": "stdout",
     "output_type": "stream",
     "text": [
      "Calculating train pos...\nCalculating validation pos...\nEpoch: [48/80], Step: [234/289.0], Loss: 518.779553056,\nTrain: 1: 0.69, 5: 0.76, 10: 0.8, 30: 0.85\nValidation: 1: 0.55, 5: 0.65, 10: 0.7, 30: 0.78\n"
     ]
    },
    {
     "name": "stdout",
     "output_type": "stream",
     "text": [
      "Calculating train pos...\nCalculating validation pos...\nEpoch: [49/80], Step: [234/289.0], Loss: 516.075751305,\nTrain: 1: 0.68, 5: 0.77, 10: 0.8, 30: 0.85\nValidation: 1: 0.55, 5: 0.65, 10: 0.7, 30: 0.78\n"
     ]
    },
    {
     "name": "stdout",
     "output_type": "stream",
     "text": [
      "Calculating train pos...\nCalculating validation pos...\nEpoch: [50/80], Step: [234/289.0], Loss: 513.482905269,\nTrain: 1: 0.69, 5: 0.77, 10: 0.79, 30: 0.85\nValidation: 1: 0.55, 5: 0.65, 10: 0.7, 30: 0.79\n"
     ]
    },
    {
     "name": "stdout",
     "output_type": "stream",
     "text": [
      "Calculating train pos...\nCalculating validation pos...\nEpoch: [51/80], Step: [234/289.0], Loss: 510.994574547,\nTrain: 1: 0.69, 5: 0.77, 10: 0.79, 30: 0.85\nValidation: 1: 0.55, 5: 0.66, 10: 0.7, 30: 0.79\n"
     ]
    },
    {
     "name": "stdout",
     "output_type": "stream",
     "text": [
      "Calculating train pos...\nCalculating validation pos...\nEpoch: [52/80], Step: [234/289.0], Loss: 508.60493958,\nTrain: 1: 0.69, 5: 0.77, 10: 0.79, 30: 0.85\nValidation: 1: 0.55, 5: 0.66, 10: 0.7, 30: 0.79\n"
     ]
    },
    {
     "name": "stdout",
     "output_type": "stream",
     "text": [
      "Calculating train pos...\nCalculating validation pos...\nEpoch: [53/80], Step: [234/289.0], Loss: 506.308429837,\nTrain: 1: 0.69, 5: 0.77, 10: 0.79, 30: 0.85\nValidation: 1: 0.55, 5: 0.66, 10: 0.7, 30: 0.8\n"
     ]
    },
    {
     "name": "stdout",
     "output_type": "stream",
     "text": [
      "Calculating train pos...\nCalculating validation pos...\nEpoch: [54/80], Step: [234/289.0], Loss: 504.10000658,\nTrain: 1: 0.69, 5: 0.77, 10: 0.79, 30: 0.86\nValidation: 1: 0.55, 5: 0.66, 10: 0.7, 30: 0.8\n"
     ]
    },
    {
     "name": "stdout",
     "output_type": "stream",
     "text": [
      "Calculating train pos...\nCalculating validation pos...\nEpoch: [55/80], Step: [234/289.0], Loss: 501.974899769,\nTrain: 1: 0.69, 5: 0.77, 10: 0.79, 30: 0.86\nValidation: 1: 0.55, 5: 0.66, 10: 0.7, 30: 0.8\n"
     ]
    },
    {
     "name": "stdout",
     "output_type": "stream",
     "text": [
      "Calculating train pos...\nCalculating validation pos...\nEpoch: [56/80], Step: [234/289.0], Loss: 499.928689122,\nTrain: 1: 0.69, 5: 0.77, 10: 0.79, 30: 0.86\nValidation: 1: 0.55, 5: 0.66, 10: 0.7, 30: 0.8\n"
     ]
    },
    {
     "name": "stdout",
     "output_type": "stream",
     "text": [
      "Calculating train pos...\nCalculating validation pos...\nEpoch: [57/80], Step: [234/289.0], Loss: 497.957297802,\nTrain: 1: 0.69, 5: 0.77, 10: 0.79, 30: 0.86\nValidation: 1: 0.55, 5: 0.66, 10: 0.7, 30: 0.8\n"
     ]
    },
    {
     "name": "stdout",
     "output_type": "stream",
     "text": [
      "Calculating train pos...\nCalculating validation pos...\nEpoch: [58/80], Step: [234/289.0], Loss: 496.056878448,\nTrain: 1: 0.69, 5: 0.77, 10: 0.8, 30: 0.86\nValidation: 1: 0.55, 5: 0.66, 10: 0.71, 30: 0.8\n"
     ]
    },
    {
     "name": "stdout",
     "output_type": "stream",
     "text": [
      "Calculating train pos...\nCalculating validation pos...\nEpoch: [59/80], Step: [234/289.0], Loss: 494.223835349,\nTrain: 1: 0.68, 5: 0.77, 10: 0.8, 30: 0.86\nValidation: 1: 0.55, 5: 0.66, 10: 0.71, 30: 0.8\n"
     ]
    },
    {
     "name": "stdout",
     "output_type": "stream",
     "text": [
      "Calculating train pos...\nCalculating validation pos...\nEpoch: [60/80], Step: [234/289.0], Loss: 492.454806685,\nTrain: 1: 0.68, 5: 0.77, 10: 0.8, 30: 0.86\nValidation: 1: 0.55, 5: 0.66, 10: 0.71, 30: 0.8\n"
     ]
    },
    {
     "name": "stdout",
     "output_type": "stream",
     "text": [
      "Calculating train pos...\nCalculating validation pos...\nEpoch: [61/80], Step: [234/289.0], Loss: 490.746684432,\nTrain: 1: 0.68, 5: 0.77, 10: 0.8, 30: 0.86\nValidation: 1: 0.55, 5: 0.67, 10: 0.71, 30: 0.8\n"
     ]
    },
    {
     "name": "stdout",
     "output_type": "stream",
     "text": [
      "Calculating train pos...\nCalculating validation pos...\nEpoch: [62/80], Step: [234/289.0], Loss: 489.096516132,\nTrain: 1: 0.68, 5: 0.77, 10: 0.8, 30: 0.86\nValidation: 1: 0.55, 5: 0.67, 10: 0.72, 30: 0.8\n"
     ]
    },
    {
     "name": "stdout",
     "output_type": "stream",
     "text": [
      "Calculating train pos...\nCalculating validation pos...\nEpoch: [63/80], Step: [234/289.0], Loss: 487.501548648,\nTrain: 1: 0.68, 5: 0.77, 10: 0.8, 30: 0.86\nValidation: 1: 0.55, 5: 0.67, 10: 0.72, 30: 0.8\n"
     ]
    },
    {
     "name": "stdout",
     "output_type": "stream",
     "text": [
      "Calculating train pos...\nCalculating validation pos...\nEpoch: [64/80], Step: [234/289.0], Loss: 485.959199667,\nTrain: 1: 0.68, 5: 0.77, 10: 0.8, 30: 0.86\nValidation: 1: 0.55, 5: 0.67, 10: 0.72, 30: 0.8\n"
     ]
    },
    {
     "name": "stdout",
     "output_type": "stream",
     "text": [
      "Calculating train pos...\nCalculating validation pos...\nEpoch: [65/80], Step: [234/289.0], Loss: 484.46701622,\nTrain: 1: 0.68, 5: 0.77, 10: 0.8, 30: 0.86\nValidation: 1: 0.55, 5: 0.67, 10: 0.72, 30: 0.8\n"
     ]
    },
    {
     "name": "stdout",
     "output_type": "stream",
     "text": [
      "Calculating train pos...\nCalculating validation pos...\nEpoch: [66/80], Step: [234/289.0], Loss: 483.022749901,\nTrain: 1: 0.68, 5: 0.77, 10: 0.8, 30: 0.86\nValidation: 1: 0.55, 5: 0.67, 10: 0.72, 30: 0.8\n"
     ]
    },
    {
     "name": "stdout",
     "output_type": "stream",
     "text": [
      "Calculating train pos...\nCalculating validation pos...\nEpoch: [67/80], Step: [234/289.0], Loss: 481.624228239,\nTrain: 1: 0.68, 5: 0.77, 10: 0.8, 30: 0.86\nValidation: 1: 0.56, 5: 0.68, 10: 0.73, 30: 0.81\n"
     ]
    },
    {
     "name": "stdout",
     "output_type": "stream",
     "text": [
      "Calculating train pos...\nCalculating validation pos...\nEpoch: [68/80], Step: [234/289.0], Loss: 480.269425154,\nTrain: 1: 0.68, 5: 0.77, 10: 0.8, 30: 0.86\nValidation: 1: 0.55, 5: 0.68, 10: 0.73, 30: 0.81\n"
     ]
    },
    {
     "name": "stdout",
     "output_type": "stream",
     "text": [
      "Calculating train pos...\nCalculating validation pos...\nEpoch: [69/80], Step: [234/289.0], Loss: 478.956428766,\nTrain: 1: 0.68, 5: 0.77, 10: 0.8, 30: 0.86\nValidation: 1: 0.55, 5: 0.68, 10: 0.73, 30: 0.82\n"
     ]
    },
    {
     "name": "stdout",
     "output_type": "stream",
     "text": [
      "Calculating train pos...\nCalculating validation pos...\nEpoch: [70/80], Step: [234/289.0], Loss: 477.683460474,\nTrain: 1: 0.68, 5: 0.77, 10: 0.8, 30: 0.86\nValidation: 1: 0.55, 5: 0.68, 10: 0.73, 30: 0.82\n"
     ]
    },
    {
     "name": "stdout",
     "output_type": "stream",
     "text": [
      "Calculating train pos...\nCalculating validation pos...\nEpoch: [71/80], Step: [234/289.0], Loss: 476.448794365,\nTrain: 1: 0.68, 5: 0.77, 10: 0.8, 30: 0.86\nValidation: 1: 0.55, 5: 0.68, 10: 0.73, 30: 0.82\n"
     ]
    },
    {
     "name": "stdout",
     "output_type": "stream",
     "text": [
      "Calculating train pos...\nCalculating validation pos...\nEpoch: [72/80], Step: [234/289.0], Loss: 475.25081563,\nTrain: 1: 0.68, 5: 0.77, 10: 0.8, 30: 0.86\nValidation: 1: 0.55, 5: 0.68, 10: 0.73, 30: 0.82\n"
     ]
    },
    {
     "name": "stdout",
     "output_type": "stream",
     "text": [
      "Calculating train pos...\nCalculating validation pos...\nEpoch: [73/80], Step: [234/289.0], Loss: 474.088028431,\nTrain: 1: 0.68, 5: 0.77, 10: 0.81, 30: 0.86\nValidation: 1: 0.55, 5: 0.68, 10: 0.73, 30: 0.82\n"
     ]
    },
    {
     "name": "stdout",
     "output_type": "stream",
     "text": [
      "Calculating train pos...\nCalculating validation pos...\nEpoch: [74/80], Step: [234/289.0], Loss: 472.958983541,\nTrain: 1: 0.68, 5: 0.77, 10: 0.81, 30: 0.86\nValidation: 1: 0.55, 5: 0.67, 10: 0.73, 30: 0.82\n"
     ]
    },
    {
     "name": "stdout",
     "output_type": "stream",
     "text": [
      "Calculating train pos...\nCalculating validation pos...\nEpoch: [75/80], Step: [234/289.0], Loss: 471.862306952,\nTrain: 1: 0.68, 5: 0.77, 10: 0.82, 30: 0.86\nValidation: 1: 0.55, 5: 0.67, 10: 0.73, 30: 0.82\n"
     ]
    },
    {
     "name": "stdout",
     "output_type": "stream",
     "text": [
      "Calculating train pos...\nCalculating validation pos...\nEpoch: [76/80], Step: [234/289.0], Loss: 470.796737075,\nTrain: 1: 0.68, 5: 0.77, 10: 0.82, 30: 0.86\nValidation: 1: 0.55, 5: 0.67, 10: 0.73, 30: 0.82\n"
     ]
    },
    {
     "name": "stdout",
     "output_type": "stream",
     "text": [
      "Calculating train pos...\nCalculating validation pos...\nEpoch: [77/80], Step: [234/289.0], Loss: 469.761013389,\nTrain: 1: 0.68, 5: 0.77, 10: 0.82, 30: 0.86\nValidation: 1: 0.55, 5: 0.67, 10: 0.73, 30: 0.82\n"
     ]
    },
    {
     "name": "stdout",
     "output_type": "stream",
     "text": [
      "Calculating train pos...\nCalculating validation pos...\nEpoch: [78/80], Step: [234/289.0], Loss: 468.754010677,\nTrain: 1: 0.68, 5: 0.77, 10: 0.82, 30: 0.86\nValidation: 1: 0.55, 5: 0.67, 10: 0.73, 30: 0.82\n"
     ]
    },
    {
     "name": "stdout",
     "output_type": "stream",
     "text": [
      "Calculating train pos...\nCalculating validation pos...\nEpoch: [79/80], Step: [234/289.0], Loss: 467.774584532,\nTrain: 1: 0.68, 5: 0.77, 10: 0.82, 30: 0.86\nValidation: 1: 0.55, 5: 0.67, 10: 0.73, 30: 0.82\n"
     ]
    },
    {
     "name": "stdout",
     "output_type": "stream",
     "text": [
      "Calculating train pos...\nCalculating validation pos...\nEpoch: [80/80], Step: [234/289.0], Loss: 466.821714878,\nTrain: 1: 0.69, 5: 0.77, 10: 0.82, 30: 0.85\nValidation: 1: 0.55, 5: 0.67, 10: 0.73, 30: 0.82\nTest: 1: 0.67, 5: 0.8, 10: 0.84, 30: 0.91\n"
     ]
    }
   ],
   "source": [
    "for epoch in range(num_epochs):\n",
    "    tot_loss = 0\n",
    "    model.train()\n",
    "    for i, (fps, labels) in enumerate(train_loader):\n",
    "        optimizer.zero_grad()\n",
    "        outputs = model(Variable(fps).float())\n",
    "        loss = loss_func(outputs, Variable(labels).max(dim=1)[1])\n",
    "        tot_loss += loss.data[0]\n",
    "        loss.backward()\n",
    "        optimizer.step()\n",
    "    \n",
    "    print(\"Calculating train pos...\")\n",
    "    tpos_0, tpos_5, tpos_10, tpos_30 = test_model(train_loader, model)\n",
    "    print(\"Calculating validation pos...\")\n",
    "    vpos_0, vpos_5, vpos_10, vpos_30 = test_model(validation_loader, model)\n",
    "    print(\n",
    "        'Epoch: [{}/{}], '\n",
    "        'Step: [{}/{}], '\n",
    "        'Loss: {},'\n",
    "        '\\n'\n",
    "        'Train: 1: {}, 5: {}, 10: {}, 30: {}'\n",
    "        '\\n'\n",
    "        'Validation: 1: {}, 5: {}, 10: {}, 30: {}'.format(\n",
    "            epoch + 1, num_epochs, i + 1,\n",
    "            math.ceil(len_train / batch_size), tot_loss,\n",
    "            tpos_0, tpos_5, tpos_10, tpos_30,\n",
    "            vpos_0, vpos_5, vpos_10, vpos_30\n",
    "        ))\n",
    "    \n",
    "tpos_0, tpos_5, tpos_10, tpos_30 = test_model(test_loader, model)\n",
    "print(\n",
    "    'Test: 1: {}, 5: {}, 10: {}, 30: {}'.format(\n",
    "        tpos_0, tpos_5, tpos_10, tpos_30\n",
    "    ))"
   ]
  }
 ],
 "metadata": {
  "kernelspec": {
   "display_name": "Python 2",
   "language": "python",
   "name": "python2"
  },
  "language_info": {
   "codemirror_mode": {
    "name": "ipython",
    "version": 2
   },
   "file_extension": ".py",
   "mimetype": "text/x-python",
   "name": "python",
   "nbconvert_exporter": "python",
   "pygments_lexer": "ipython2",
   "version": "2.7.6"
  }
 },
 "nbformat": 4,
 "nbformat_minor": 0
}
