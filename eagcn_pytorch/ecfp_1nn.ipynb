{
 "cells": [
  {
   "cell_type": "code",
   "execution_count": 1,
   "metadata": {},
   "outputs": [],
   "source": [
    "from __future__ import division\n",
    "from __future__ import print_function\n",
    "import matplotlib; matplotlib.use('agg')\n",
    "import numpy as np\n",
    "from scipy.spatial.distance import pdist, cdist, squareform\n",
    "\n",
    "import time\n",
    "import argparse\n",
    "import numpy as np\n",
    "import math\n",
    "\n",
    "import torch\n",
    "import torch.nn.functional as F\n",
    "import torch.optim as optim\n",
    "from torch.autograd import Variable\n",
    "from utils import *\n",
    "from models import *\n",
    "from torch.utils.data import Dataset\n",
    "\n",
    "from sklearn import metrics\n",
    "from sklearn.utils import shuffle, resample\n",
    "from sklearn.model_selection import train_test_split, KFold\n",
    "import os\n",
    "\n",
    "import matplotlib.pyplot as plt\n",
    "from time import gmtime, strftime\n",
    "\n",
    "from rdkit import DataStructs\n",
    "\n",
    "random_state = 11\n",
    "nBits = [512, 1024]\n",
    "batch_size = 100\n",
    "num_epochs = 80\n",
    "weight_decay = 0.0001  # L-2 Norm\n",
    "learning_rate = 0.0005"
   ]
  },
  {
   "cell_type": "code",
   "execution_count": 2,
   "metadata": {},
   "outputs": [],
   "source": [
    "def split_data(data, labels):\n",
    "    X, x_test, y, y_test = train_test_split(data, labels, test_size=0.1, random_state=random_state, stratify=labels)\n",
    "    \n",
    "#     tensor_x_test = torch.from_numpy(x_test).float()\n",
    "#     tensor_y_test = torch.from_numpy(y_test).long()\n",
    "#     test_dataset = torch.utils.data.TensorDataset(tensor_x_test, tensor_y_test)\n",
    "#     test_loader = torch.utils.data.DataLoader(dataset=test_dataset, batch_size=batch_size)\n",
    "    \n",
    "    x_train, x_val, y_train, y_val = train_test_split(X, y, test_size=0.1, random_state=random_state, stratify=y)\n",
    "    \n",
    "#     tensor_x_val = torch.from_numpy(x_val).float()\n",
    "#     tensor_y_val = torch.from_numpy(y_val).long()\n",
    "#     val_dataset = torch.utils.data.TensorDataset(tensor_x_val, tensor_y_val)\n",
    "#     val_loader = torch.utils.data.DataLoader(dataset=val_dataset, batch_size=batch_size)\n",
    "    \n",
    "#     tensor_x_train = torch.from_numpy(x_train).float()\n",
    "#     tensor_y_train = torch.from_numpy(y_train).long()\n",
    "#     train_dataset = torch.utils.data.TensorDataset(tensor_x_train, tensor_y_train)\n",
    "#     train_loader = torch.utils.data.DataLoader(dataset=train_dataset, batch_size=batch_size)\n",
    "    \n",
    "#     return (train_loader, val_loader, test_loader)\n",
    "    return ((x_train, y_train), (x_val, y_val), (x_test, y_test))"
   ]
  },
  {
   "cell_type": "code",
   "execution_count": 3,
   "metadata": {},
   "outputs": [],
   "source": [
    "def test_model(dist_mat, train_size, train_labels, true_labels):\n",
    "# We assume that the dist matrix is 4 sub matrices, train vs. train train vs. something else.\n",
    "# So the first train_size X train_size entries are the similarity of the train vs. itself.\n",
    "    \n",
    "#     sub_mat = dist_mat[train_size:, :train_size]\n",
    "    sub_mat = dist_mat\n",
    "    correct = [0]*4\n",
    "#     total = dist_mat.shape[0] - train_size\n",
    "    total = dist_mat.shape[0]\n",
    "    top_ks = [1, 5, 10, 30]\n",
    "#     top_ks = np.array(top_ks) - 1\n",
    "    for i, topk in enumerate(top_ks):\n",
    "        nn = np.partition(sub_mat, topk, axis=1)\n",
    "        nn = sub_mat <= nn[:,topk-1].reshape(-1, 1)\n",
    "        nn_labels = np.matmul(nn, train_labels)\n",
    "        correct[i] = (np.multiply(nn_labels, true_labels) > 0).sum()\n",
    "    return np.true_divide(correct,total).tolist()"
   ]
  },
  {
   "cell_type": "code",
   "execution_count": 4,
   "metadata": {},
   "outputs": [
    {
     "name": "stdout",
     "output_type": "stream",
     "text": [
      "Loading small_batch_test dataset...\n",
      "Done.\n"
     ]
    }
   ],
   "source": [
    "x_all, y_all, target, sizes, mol_to_graph_transform, parameter_holder, edge_vocab, node_vocab = \\\n",
    "    load_data('small_batch_test')"
   ]
  },
  {
   "cell_type": "code",
   "execution_count": 5,
   "metadata": {},
   "outputs": [],
   "source": [
    "mols = np.array([mol_dat[-1] for mol_dat in x_all])\n",
    "uniques, indices = np.unique(mols, return_index=True)"
   ]
  },
  {
   "cell_type": "code",
   "execution_count": 6,
   "metadata": {
    "scrolled": true
   },
   "outputs": [
    {
     "name": "stdout",
     "output_type": "stream",
     "text": [
      "28792 28869 28792\n"
     ]
    }
   ],
   "source": [
    "print(len(uniques), len(mols), len(indices))"
   ]
  },
  {
   "cell_type": "code",
   "execution_count": 7,
   "metadata": {},
   "outputs": [
    {
     "data": {
      "text/plain": [
       "(28792,)"
      ]
     },
     "execution_count": 7,
     "metadata": {},
     "output_type": "execute_result"
    }
   ],
   "source": [
    "mols[indices].shape"
   ]
  },
  {
   "cell_type": "code",
   "execution_count": 8,
   "metadata": {},
   "outputs": [
    {
     "name": "stdout",
     "output_type": "stream",
     "text": [
      "512\n",
      "[0.808641975308642, 0.8587962962962963, 0.8734567901234568, 0.8958333333333334]\n",
      "[0.8163194444444445, 0.86875, 0.8826388888888889, 0.9038194444444444]\n",
      "1024\n",
      "[0.8090277777777778, 0.8630401234567902, 0.8742283950617284, 0.8977623456790124]\n",
      "[0.8159722222222222, 0.8684027777777777, 0.8826388888888889, 0.9041666666666667]\n"
     ]
    }
   ],
   "source": [
    "for nbits in nBits:\n",
    "    print(nbits)\n",
    "    fps = [AllChem.GetMorganFingerprintAsBitVect(MolFromInchi(mol), 2, nBits=nbits) for mol in mols[indices]]\n",
    "    len_train = len(fps)\n",
    "    labels = y_all[indices]\n",
    "\n",
    "    np_fps = []\n",
    "    for fp in fps:\n",
    "      arr = np.zeros((1,), dtype=np.int8)\n",
    "      DataStructs.ConvertToNumpyArray(fp, arr)\n",
    "      np_fps.append(arr)\n",
    "\n",
    "    np_fps = np.concatenate(np_fps, axis=0)\n",
    "    np_fps = np_fps.reshape(-1, nbits)\n",
    "\n",
    "    np_fps, labels = shuffle(np_fps, labels, random_state=random_state)\n",
    "    train_loader, validation_loader, test_loader = split_data(np_fps, labels)\n",
    "    train_val = cdist(validation_loader[0], train_loader[0], metric='cosine')\n",
    "    print(test_model(train_val, train_loader[0].shape[0], train_loader[1], validation_loader[1]))\n",
    "    del train_val\n",
    "#     train_val = np.concatenate((train_loader[0], validation_loader[0]))\n",
    "#     train_val = squareform(pdist(train_val, 'jaccard'))\n",
    "\n",
    "#     train_test = np.concatenate((train_loader[0], test_loader[0]))\n",
    "#     train_test = squareform(pdist(train_test, 'jaccard'))\n",
    "    train_test = cdist(test_loader[0], train_loader[0], metric='cosine')\n",
    "    print(test_model(train_test, train_loader[0].shape[0], train_loader[1], test_loader[1]))\n",
    "    del train_test"
   ]
  }
 ],
 "metadata": {
  "kernelspec": {
   "display_name": "Python 2",
   "language": "python",
   "name": "python2"
  },
  "language_info": {
   "codemirror_mode": {
    "name": "ipython",
    "version": 2
   },
   "file_extension": ".py",
   "mimetype": "text/x-python",
   "name": "python",
   "nbconvert_exporter": "python",
   "pygments_lexer": "ipython2",
   "version": "2.7.15"
  }
 },
 "nbformat": 4,
 "nbformat_minor": 1
}
