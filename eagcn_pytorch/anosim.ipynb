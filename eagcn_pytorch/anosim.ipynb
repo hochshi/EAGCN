{
 "cells": [
  {
   "cell_type": "code",
   "execution_count": null,
   "metadata": {
    "collapsed": true
   },
   "outputs": [],
   "source": [
    "import matplotlib; matplotlib.use('agg')\n",
    "from skbio import DistanceMatrix\n",
    "from skbio.stats.distance import anosim\n",
    "import numpy as np\n",
    "from scipy.spatial.distance import pdist, squareform\n",
    "\n",
    "data = np.load('experiment_result/server/small_batch_test/[\\'all_tasks\\']/May_02_09:14N_outputs.npz')\n",
    "fps = data['fps']\n",
    "fp_labels = data['fp_labels']\n",
    "fps_cat = np.concatenate(fps)\n",
    "labels_cat = np.concatenate(fp_labels)\n",
    "labels_sort = np.argsort(labels_cat)\n",
    "fps_sort = fps_cat[labels_sort]\n",
    "\n",
    "dist_mat = pdist(fps_sort, 'euclidean')\n",
    "dist_mat = squareform(dist_mat)\n",
    "dm = DistanceMatrix(dist_mat)\n",
    "grouping = labels_cat[labels_sort]\n",
    "anosim(dm, grouping, permutations=99)"
   ]
  }
 ],
 "metadata": {
  "kernelspec": {
   "display_name": "Python 2",
   "language": "python",
   "name": "python2"
  },
  "language_info": {
   "codemirror_mode": {
    "name": "ipython",
    "version": 2
   },
   "file_extension": ".py",
   "mimetype": "text/x-python",
   "name": "python",
   "nbconvert_exporter": "python",
   "pygments_lexer": "ipython2",
   "version": "2.7.15"
  }
 },
 "nbformat": 4,
 "nbformat_minor": 1
}
